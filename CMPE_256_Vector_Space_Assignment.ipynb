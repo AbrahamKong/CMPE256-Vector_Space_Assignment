{
  "nbformat": 4,
  "nbformat_minor": 0,
  "metadata": {
    "colab": {
      "name": "CMPE 256 Vector Space Assignment.ipynb",
      "provenance": [],
      "authorship_tag": "ABX9TyPihviRJKSscG4WEFH9SgFK",
      "include_colab_link": true
    },
    "kernelspec": {
      "name": "python3",
      "display_name": "Python 3"
    },
    "language_info": {
      "name": "python"
    }
  },
  "cells": [
    {
      "cell_type": "markdown",
      "metadata": {
        "id": "view-in-github",
        "colab_type": "text"
      },
      "source": [
        "<a href=\"https://colab.research.google.com/github/AbrahamKong/CMPE256-Vector_Space_Assignment/blob/main/CMPE_256_Vector_Space_Assignment.ipynb\" target=\"_parent\"><img src=\"https://colab.research.google.com/assets/colab-badge.svg\" alt=\"Open In Colab\"/></a>"
      ]
    },
    {
      "cell_type": "code",
      "metadata": {
        "id": "fn4ethilqIhh"
      },
      "source": [
        "# Import neccassary library\n",
        "\n",
        "import pandas as pd\n",
        "import numpy as np"
      ],
      "execution_count": null,
      "outputs": []
    },
    {
      "cell_type": "code",
      "metadata": {
        "colab": {
          "base_uri": "https://localhost:8080/"
        },
        "id": "ZsTAqAS2wvfd",
        "outputId": "1845fb48-0b70-456f-e957-6d3f0d749ae6"
      },
      "source": [
        "# Read In text from files\n",
        "\n",
        "data_dir = \"/content/\"\n",
        "data_files = [\n",
        "    \"d1.txt\", \"d2.txt\", \"d3.txt\",\n",
        "    \"d4.txt\"\n",
        "]\n",
        "\n",
        "data = pd.Series()\n",
        "for file in data_files:\n",
        "    f = open(data_dir + file, 'r')\n",
        "    file_contents = f.read()\n",
        "    data[file[:-4]] = file_contents\n",
        "    f.close()\n",
        "    print(data[file[:-4]])"
      ],
      "execution_count": null,
      "outputs": [
        {
          "output_type": "stream",
          "name": "stdout",
          "text": [
            "User selected Wedding gown.\n",
            "User ordered on-line rose flowers.\n",
            "User searched diamond ring.\n",
            "User selected white wedding gown, online flowers, 3 carat diamond ring.\n"
          ]
        },
        {
          "output_type": "stream",
          "name": "stderr",
          "text": [
            "/usr/local/lib/python3.7/dist-packages/ipykernel_launcher.py:9: DeprecationWarning: The default dtype for empty Series will be 'object' instead of 'float64' in a future version. Specify a dtype explicitly to silence this warning.\n",
            "  if __name__ == '__main__':\n"
          ]
        }
      ]
    },
    {
      "cell_type": "code",
      "metadata": {
        "colab": {
          "base_uri": "https://localhost:8080/"
        },
        "id": "mKUsIrtEqKBU",
        "outputId": "1d90f1e6-90ed-4b37-8db2-ca8738ccfae7"
      },
      "source": [
        "# Count Word for each document\n",
        "\n",
        "from collections import Counter\n",
        "\n",
        "bag_of_words = (\n",
        "    data.\n",
        "    str.lower().                  # convert all letters to lowercase\n",
        "    str.replace(\"[^\\w\\s]\", \" \").  # replace non-alphanumeric characters by whitespace\n",
        "    str.split()                   # split on whitespace\n",
        ").apply(Counter)\n",
        "\n",
        "bag_of_words"
      ],
      "execution_count": null,
      "outputs": [
        {
          "output_type": "execute_result",
          "data": {
            "text/plain": [
              "d1    {'user': 1, 'selected': 1, 'wedding': 1, 'gown...\n",
              "d2    {'user': 1, 'ordered': 1, 'on': 1, 'line': 1, ...\n",
              "d3    {'user': 1, 'searched': 1, 'diamond': 1, 'ring...\n",
              "d4    {'user': 1, 'selected': 1, 'white': 1, 'weddin...\n",
              "dtype: object"
            ]
          },
          "metadata": {},
          "execution_count": 36
        }
      ]
    },
    {
      "cell_type": "markdown",
      "metadata": {
        "id": "9XBV26msw_Eu"
      },
      "source": [
        "**TF-iDF**"
      ]
    },
    {
      "cell_type": "code",
      "metadata": {
        "id": "mA7dnPL7qZlA",
        "colab": {
          "base_uri": "https://localhost:8080/",
          "height": 171
        },
        "outputId": "7ab1c695-487c-4d62-8e6c-94d4b4e57b98"
      },
      "source": [
        "# Set up TD\n",
        "\n",
        "tf = pd.DataFrame(list(bag_of_words))\n",
        "tf"
      ],
      "execution_count": null,
      "outputs": [
        {
          "output_type": "execute_result",
          "data": {
            "text/html": [
              "<div>\n",
              "<style scoped>\n",
              "    .dataframe tbody tr th:only-of-type {\n",
              "        vertical-align: middle;\n",
              "    }\n",
              "\n",
              "    .dataframe tbody tr th {\n",
              "        vertical-align: top;\n",
              "    }\n",
              "\n",
              "    .dataframe thead th {\n",
              "        text-align: right;\n",
              "    }\n",
              "</style>\n",
              "<table border=\"1\" class=\"dataframe\">\n",
              "  <thead>\n",
              "    <tr style=\"text-align: right;\">\n",
              "      <th></th>\n",
              "      <th>user</th>\n",
              "      <th>selected</th>\n",
              "      <th>wedding</th>\n",
              "      <th>gown</th>\n",
              "      <th>ordered</th>\n",
              "      <th>on</th>\n",
              "      <th>line</th>\n",
              "      <th>rose</th>\n",
              "      <th>flowers</th>\n",
              "      <th>searched</th>\n",
              "      <th>diamond</th>\n",
              "      <th>ring</th>\n",
              "      <th>white</th>\n",
              "      <th>online</th>\n",
              "      <th>3</th>\n",
              "      <th>carat</th>\n",
              "    </tr>\n",
              "  </thead>\n",
              "  <tbody>\n",
              "    <tr>\n",
              "      <th>0</th>\n",
              "      <td>1</td>\n",
              "      <td>1.0</td>\n",
              "      <td>1.0</td>\n",
              "      <td>1.0</td>\n",
              "      <td>NaN</td>\n",
              "      <td>NaN</td>\n",
              "      <td>NaN</td>\n",
              "      <td>NaN</td>\n",
              "      <td>NaN</td>\n",
              "      <td>NaN</td>\n",
              "      <td>NaN</td>\n",
              "      <td>NaN</td>\n",
              "      <td>NaN</td>\n",
              "      <td>NaN</td>\n",
              "      <td>NaN</td>\n",
              "      <td>NaN</td>\n",
              "    </tr>\n",
              "    <tr>\n",
              "      <th>1</th>\n",
              "      <td>1</td>\n",
              "      <td>NaN</td>\n",
              "      <td>NaN</td>\n",
              "      <td>NaN</td>\n",
              "      <td>1.0</td>\n",
              "      <td>1.0</td>\n",
              "      <td>1.0</td>\n",
              "      <td>1.0</td>\n",
              "      <td>1.0</td>\n",
              "      <td>NaN</td>\n",
              "      <td>NaN</td>\n",
              "      <td>NaN</td>\n",
              "      <td>NaN</td>\n",
              "      <td>NaN</td>\n",
              "      <td>NaN</td>\n",
              "      <td>NaN</td>\n",
              "    </tr>\n",
              "    <tr>\n",
              "      <th>2</th>\n",
              "      <td>1</td>\n",
              "      <td>NaN</td>\n",
              "      <td>NaN</td>\n",
              "      <td>NaN</td>\n",
              "      <td>NaN</td>\n",
              "      <td>NaN</td>\n",
              "      <td>NaN</td>\n",
              "      <td>NaN</td>\n",
              "      <td>NaN</td>\n",
              "      <td>1.0</td>\n",
              "      <td>1.0</td>\n",
              "      <td>1.0</td>\n",
              "      <td>NaN</td>\n",
              "      <td>NaN</td>\n",
              "      <td>NaN</td>\n",
              "      <td>NaN</td>\n",
              "    </tr>\n",
              "    <tr>\n",
              "      <th>3</th>\n",
              "      <td>1</td>\n",
              "      <td>1.0</td>\n",
              "      <td>1.0</td>\n",
              "      <td>1.0</td>\n",
              "      <td>NaN</td>\n",
              "      <td>NaN</td>\n",
              "      <td>NaN</td>\n",
              "      <td>NaN</td>\n",
              "      <td>1.0</td>\n",
              "      <td>NaN</td>\n",
              "      <td>1.0</td>\n",
              "      <td>1.0</td>\n",
              "      <td>1.0</td>\n",
              "      <td>1.0</td>\n",
              "      <td>1.0</td>\n",
              "      <td>1.0</td>\n",
              "    </tr>\n",
              "  </tbody>\n",
              "</table>\n",
              "</div>"
            ],
            "text/plain": [
              "   user  selected  wedding  gown  ordered  ...  ring  white  online    3  carat\n",
              "0     1       1.0      1.0   1.0      NaN  ...   NaN    NaN     NaN  NaN    NaN\n",
              "1     1       NaN      NaN   NaN      1.0  ...   NaN    NaN     NaN  NaN    NaN\n",
              "2     1       NaN      NaN   NaN      NaN  ...   1.0    NaN     NaN  NaN    NaN\n",
              "3     1       1.0      1.0   1.0      NaN  ...   1.0    1.0     1.0  1.0    1.0\n",
              "\n",
              "[4 rows x 16 columns]"
            ]
          },
          "metadata": {},
          "execution_count": 37
        }
      ]
    },
    {
      "cell_type": "code",
      "metadata": {
        "colab": {
          "base_uri": "https://localhost:8080/",
          "height": 171
        },
        "id": "ap3gsghwuKHe",
        "outputId": "4dd89c8f-e4ba-4b25-e2b4-e961d2084e17"
      },
      "source": [
        "# Fill N/A value with 0\n",
        "\n",
        "tf = tf.fillna(0)\n",
        "tf"
      ],
      "execution_count": null,
      "outputs": [
        {
          "output_type": "execute_result",
          "data": {
            "text/html": [
              "<div>\n",
              "<style scoped>\n",
              "    .dataframe tbody tr th:only-of-type {\n",
              "        vertical-align: middle;\n",
              "    }\n",
              "\n",
              "    .dataframe tbody tr th {\n",
              "        vertical-align: top;\n",
              "    }\n",
              "\n",
              "    .dataframe thead th {\n",
              "        text-align: right;\n",
              "    }\n",
              "</style>\n",
              "<table border=\"1\" class=\"dataframe\">\n",
              "  <thead>\n",
              "    <tr style=\"text-align: right;\">\n",
              "      <th></th>\n",
              "      <th>user</th>\n",
              "      <th>selected</th>\n",
              "      <th>wedding</th>\n",
              "      <th>gown</th>\n",
              "      <th>ordered</th>\n",
              "      <th>on</th>\n",
              "      <th>line</th>\n",
              "      <th>rose</th>\n",
              "      <th>flowers</th>\n",
              "      <th>searched</th>\n",
              "      <th>diamond</th>\n",
              "      <th>ring</th>\n",
              "      <th>white</th>\n",
              "      <th>online</th>\n",
              "      <th>3</th>\n",
              "      <th>carat</th>\n",
              "    </tr>\n",
              "  </thead>\n",
              "  <tbody>\n",
              "    <tr>\n",
              "      <th>0</th>\n",
              "      <td>1</td>\n",
              "      <td>1.0</td>\n",
              "      <td>1.0</td>\n",
              "      <td>1.0</td>\n",
              "      <td>0.0</td>\n",
              "      <td>0.0</td>\n",
              "      <td>0.0</td>\n",
              "      <td>0.0</td>\n",
              "      <td>0.0</td>\n",
              "      <td>0.0</td>\n",
              "      <td>0.0</td>\n",
              "      <td>0.0</td>\n",
              "      <td>0.0</td>\n",
              "      <td>0.0</td>\n",
              "      <td>0.0</td>\n",
              "      <td>0.0</td>\n",
              "    </tr>\n",
              "    <tr>\n",
              "      <th>1</th>\n",
              "      <td>1</td>\n",
              "      <td>0.0</td>\n",
              "      <td>0.0</td>\n",
              "      <td>0.0</td>\n",
              "      <td>1.0</td>\n",
              "      <td>1.0</td>\n",
              "      <td>1.0</td>\n",
              "      <td>1.0</td>\n",
              "      <td>1.0</td>\n",
              "      <td>0.0</td>\n",
              "      <td>0.0</td>\n",
              "      <td>0.0</td>\n",
              "      <td>0.0</td>\n",
              "      <td>0.0</td>\n",
              "      <td>0.0</td>\n",
              "      <td>0.0</td>\n",
              "    </tr>\n",
              "    <tr>\n",
              "      <th>2</th>\n",
              "      <td>1</td>\n",
              "      <td>0.0</td>\n",
              "      <td>0.0</td>\n",
              "      <td>0.0</td>\n",
              "      <td>0.0</td>\n",
              "      <td>0.0</td>\n",
              "      <td>0.0</td>\n",
              "      <td>0.0</td>\n",
              "      <td>0.0</td>\n",
              "      <td>1.0</td>\n",
              "      <td>1.0</td>\n",
              "      <td>1.0</td>\n",
              "      <td>0.0</td>\n",
              "      <td>0.0</td>\n",
              "      <td>0.0</td>\n",
              "      <td>0.0</td>\n",
              "    </tr>\n",
              "    <tr>\n",
              "      <th>3</th>\n",
              "      <td>1</td>\n",
              "      <td>1.0</td>\n",
              "      <td>1.0</td>\n",
              "      <td>1.0</td>\n",
              "      <td>0.0</td>\n",
              "      <td>0.0</td>\n",
              "      <td>0.0</td>\n",
              "      <td>0.0</td>\n",
              "      <td>1.0</td>\n",
              "      <td>0.0</td>\n",
              "      <td>1.0</td>\n",
              "      <td>1.0</td>\n",
              "      <td>1.0</td>\n",
              "      <td>1.0</td>\n",
              "      <td>1.0</td>\n",
              "      <td>1.0</td>\n",
              "    </tr>\n",
              "  </tbody>\n",
              "</table>\n",
              "</div>"
            ],
            "text/plain": [
              "   user  selected  wedding  gown  ordered  ...  ring  white  online    3  carat\n",
              "0     1       1.0      1.0   1.0      0.0  ...   0.0    0.0     0.0  0.0    0.0\n",
              "1     1       0.0      0.0   0.0      1.0  ...   0.0    0.0     0.0  0.0    0.0\n",
              "2     1       0.0      0.0   0.0      0.0  ...   1.0    0.0     0.0  0.0    0.0\n",
              "3     1       1.0      1.0   1.0      0.0  ...   1.0    1.0     1.0  1.0    1.0\n",
              "\n",
              "[4 rows x 16 columns]"
            ]
          },
          "metadata": {},
          "execution_count": 38
        }
      ]
    },
    {
      "cell_type": "code",
      "metadata": {
        "colab": {
          "base_uri": "https://localhost:8080/"
        },
        "id": "8OVYVKszuiyT",
        "outputId": "44254a90-5b5e-4906-db4b-aa3854375ab1"
      },
      "source": [
        "# Get document frequencies \n",
        "\n",
        "df = (tf > 0).sum(axis=0)\n",
        "df"
      ],
      "execution_count": null,
      "outputs": [
        {
          "output_type": "execute_result",
          "data": {
            "text/plain": [
              "user        4\n",
              "selected    2\n",
              "wedding     2\n",
              "gown        2\n",
              "ordered     1\n",
              "on          1\n",
              "line        1\n",
              "rose        1\n",
              "flowers     2\n",
              "searched    1\n",
              "diamond     2\n",
              "ring        2\n",
              "white       1\n",
              "online      1\n",
              "3           1\n",
              "carat       1\n",
              "dtype: int64"
            ]
          },
          "metadata": {},
          "execution_count": 39
        }
      ]
    },
    {
      "cell_type": "code",
      "metadata": {
        "colab": {
          "base_uri": "https://localhost:8080/"
        },
        "id": "TsjTG56Rul8x",
        "outputId": "c67dd031-8e63-4ec1-f702-b12e0d77e1e8"
      },
      "source": [
        "# Get IDFs\n",
        "\n",
        "\n",
        "idf = np.log(len(tf) / df)\n",
        "idf"
      ],
      "execution_count": null,
      "outputs": [
        {
          "output_type": "execute_result",
          "data": {
            "text/plain": [
              "user        0.000000\n",
              "selected    0.693147\n",
              "wedding     0.693147\n",
              "gown        0.693147\n",
              "ordered     1.386294\n",
              "on          1.386294\n",
              "line        1.386294\n",
              "rose        1.386294\n",
              "flowers     0.693147\n",
              "searched    1.386294\n",
              "diamond     0.693147\n",
              "ring        0.693147\n",
              "white       1.386294\n",
              "online      1.386294\n",
              "3           1.386294\n",
              "carat       1.386294\n",
              "dtype: float64"
            ]
          },
          "metadata": {},
          "execution_count": 40
        }
      ]
    },
    {
      "cell_type": "code",
      "metadata": {
        "colab": {
          "base_uri": "https://localhost:8080/",
          "height": 171
        },
        "id": "MCevm8OjvEQ_",
        "outputId": "f3f78c1c-5c05-49a1-a692-e3edc8dd4452"
      },
      "source": [
        "# Calculate TF-IDFs\n",
        "\n",
        "\n",
        "tf_idf = tf * idf\n",
        "tf_idf"
      ],
      "execution_count": null,
      "outputs": [
        {
          "output_type": "execute_result",
          "data": {
            "text/html": [
              "<div>\n",
              "<style scoped>\n",
              "    .dataframe tbody tr th:only-of-type {\n",
              "        vertical-align: middle;\n",
              "    }\n",
              "\n",
              "    .dataframe tbody tr th {\n",
              "        vertical-align: top;\n",
              "    }\n",
              "\n",
              "    .dataframe thead th {\n",
              "        text-align: right;\n",
              "    }\n",
              "</style>\n",
              "<table border=\"1\" class=\"dataframe\">\n",
              "  <thead>\n",
              "    <tr style=\"text-align: right;\">\n",
              "      <th></th>\n",
              "      <th>user</th>\n",
              "      <th>selected</th>\n",
              "      <th>wedding</th>\n",
              "      <th>gown</th>\n",
              "      <th>ordered</th>\n",
              "      <th>on</th>\n",
              "      <th>line</th>\n",
              "      <th>rose</th>\n",
              "      <th>flowers</th>\n",
              "      <th>searched</th>\n",
              "      <th>diamond</th>\n",
              "      <th>ring</th>\n",
              "      <th>white</th>\n",
              "      <th>online</th>\n",
              "      <th>3</th>\n",
              "      <th>carat</th>\n",
              "    </tr>\n",
              "  </thead>\n",
              "  <tbody>\n",
              "    <tr>\n",
              "      <th>0</th>\n",
              "      <td>0.0</td>\n",
              "      <td>0.693147</td>\n",
              "      <td>0.693147</td>\n",
              "      <td>0.693147</td>\n",
              "      <td>0.000000</td>\n",
              "      <td>0.000000</td>\n",
              "      <td>0.000000</td>\n",
              "      <td>0.000000</td>\n",
              "      <td>0.000000</td>\n",
              "      <td>0.000000</td>\n",
              "      <td>0.000000</td>\n",
              "      <td>0.000000</td>\n",
              "      <td>0.000000</td>\n",
              "      <td>0.000000</td>\n",
              "      <td>0.000000</td>\n",
              "      <td>0.000000</td>\n",
              "    </tr>\n",
              "    <tr>\n",
              "      <th>1</th>\n",
              "      <td>0.0</td>\n",
              "      <td>0.000000</td>\n",
              "      <td>0.000000</td>\n",
              "      <td>0.000000</td>\n",
              "      <td>1.386294</td>\n",
              "      <td>1.386294</td>\n",
              "      <td>1.386294</td>\n",
              "      <td>1.386294</td>\n",
              "      <td>0.693147</td>\n",
              "      <td>0.000000</td>\n",
              "      <td>0.000000</td>\n",
              "      <td>0.000000</td>\n",
              "      <td>0.000000</td>\n",
              "      <td>0.000000</td>\n",
              "      <td>0.000000</td>\n",
              "      <td>0.000000</td>\n",
              "    </tr>\n",
              "    <tr>\n",
              "      <th>2</th>\n",
              "      <td>0.0</td>\n",
              "      <td>0.000000</td>\n",
              "      <td>0.000000</td>\n",
              "      <td>0.000000</td>\n",
              "      <td>0.000000</td>\n",
              "      <td>0.000000</td>\n",
              "      <td>0.000000</td>\n",
              "      <td>0.000000</td>\n",
              "      <td>0.000000</td>\n",
              "      <td>1.386294</td>\n",
              "      <td>0.693147</td>\n",
              "      <td>0.693147</td>\n",
              "      <td>0.000000</td>\n",
              "      <td>0.000000</td>\n",
              "      <td>0.000000</td>\n",
              "      <td>0.000000</td>\n",
              "    </tr>\n",
              "    <tr>\n",
              "      <th>3</th>\n",
              "      <td>0.0</td>\n",
              "      <td>0.693147</td>\n",
              "      <td>0.693147</td>\n",
              "      <td>0.693147</td>\n",
              "      <td>0.000000</td>\n",
              "      <td>0.000000</td>\n",
              "      <td>0.000000</td>\n",
              "      <td>0.000000</td>\n",
              "      <td>0.693147</td>\n",
              "      <td>0.000000</td>\n",
              "      <td>0.693147</td>\n",
              "      <td>0.693147</td>\n",
              "      <td>1.386294</td>\n",
              "      <td>1.386294</td>\n",
              "      <td>1.386294</td>\n",
              "      <td>1.386294</td>\n",
              "    </tr>\n",
              "  </tbody>\n",
              "</table>\n",
              "</div>"
            ],
            "text/plain": [
              "   user  selected   wedding      gown  ...     white    online         3     carat\n",
              "0   0.0  0.693147  0.693147  0.693147  ...  0.000000  0.000000  0.000000  0.000000\n",
              "1   0.0  0.000000  0.000000  0.000000  ...  0.000000  0.000000  0.000000  0.000000\n",
              "2   0.0  0.000000  0.000000  0.000000  ...  0.000000  0.000000  0.000000  0.000000\n",
              "3   0.0  0.693147  0.693147  0.693147  ...  1.386294  1.386294  1.386294  1.386294\n",
              "\n",
              "[4 rows x 16 columns]"
            ]
          },
          "metadata": {},
          "execution_count": 41
        }
      ]
    },
    {
      "cell_type": "markdown",
      "metadata": {
        "id": "0oa-DcqJRTUT"
      },
      "source": [
        "**Cisine Similarity**"
      ]
    },
    {
      "cell_type": "code",
      "metadata": {
        "id": "6SwjrBnhwJNN"
      },
      "source": [
        "from sklearn.feature_extraction.text import TfidfVectorizer\n",
        "\n",
        "vec = TfidfVectorizer(norm=None) # Do not normalize.\n",
        "vec.fit(data) # This determines the vocabulary.\n",
        "tf_idf_sparse = vec.transform(data)"
      ],
      "execution_count": null,
      "outputs": []
    },
    {
      "cell_type": "code",
      "metadata": {
        "colab": {
          "base_uri": "https://localhost:8080/"
        },
        "id": "z9t-lbtkvH6H",
        "outputId": "edb487c9-42d0-42ec-b658-eabb25f07da2"
      },
      "source": [
        "# Calculate the numerator.\n",
        "a = tf_idf_sparse[0, :]\n",
        "b = tf_idf_sparse[2, :]\n",
        "dot = a.multiply(b).sum()\n",
        "\n",
        "# Calculate the terms in the denominator.\n",
        "a_len = np.sqrt(a.multiply(a).sum())\n",
        "b_len = np.sqrt(b.multiply(b).sum())\n",
        "\n",
        "# Cosine similarity is their ratio.\n",
        "dot / (a_len * b_len)"
      ],
      "execution_count": null,
      "outputs": [
        {
          "output_type": "execute_result",
          "data": {
            "text/plain": [
              "0.11744989547797277"
            ]
          },
          "metadata": {},
          "execution_count": 42
        }
      ]
    },
    {
      "cell_type": "code",
      "metadata": {
        "colab": {
          "base_uri": "https://localhost:8080/"
        },
        "id": "z6EYa3TdvMrQ",
        "outputId": "b04a25ad-1f45-4bbf-c229-0de323c6db97"
      },
      "source": [
        "# Calculate the numerators.\n",
        "a = tf_idf_sparse[0, :]\n",
        "B = tf_idf_sparse\n",
        "dot = a.multiply(B).sum(axis=1)\n",
        "dot"
      ],
      "execution_count": null,
      "outputs": [
        {
          "output_type": "execute_result",
          "data": {
            "text/plain": [
              "matrix([[7.8477822],\n",
              "        [1.       ],\n",
              "        [1.       ],\n",
              "        [7.8477822]])"
            ]
          },
          "metadata": {},
          "execution_count": 43
        }
      ]
    },
    {
      "cell_type": "code",
      "metadata": {
        "colab": {
          "base_uri": "https://localhost:8080/"
        },
        "id": "uHii8BdywVfR",
        "outputId": "7b4be35e-703a-47a2-a993-ca6367ccf496"
      },
      "source": [
        "# Calculate the denominators.\n",
        "a_len = np.sqrt(a.multiply(a).sum())\n",
        "b_len = np.sqrt(B.multiply(B).sum(axis=1))\n",
        "print(a_len)\n",
        "b_len"
      ],
      "execution_count": null,
      "outputs": [
        {
          "output_type": "stream",
          "name": "stdout",
          "text": [
            "2.8013893332208726\n"
          ]
        },
        {
          "output_type": "execute_result",
          "data": {
            "text/plain": [
              "matrix([[2.80138933],\n",
              "        [4.23925403],\n",
              "        [3.03930227],\n",
              "        [5.07070753]])"
            ]
          },
          "metadata": {},
          "execution_count": 44
        }
      ]
    },
    {
      "cell_type": "code",
      "metadata": {
        "colab": {
          "base_uri": "https://localhost:8080/"
        },
        "id": "1FQ4-RL5wXGW",
        "outputId": "794bd462-a4d6-4dd7-f585-9dfd22a3cef3"
      },
      "source": [
        "# Calculate their ratio to obtain cosine similarities.\n",
        "dot / (a_len * b_len)"
      ],
      "execution_count": null,
      "outputs": [
        {
          "output_type": "execute_result",
          "data": {
            "text/plain": [
              "matrix([[1.        ],\n",
              "        [0.08420485],\n",
              "        [0.1174499 ],\n",
              "        [0.55246518]])"
            ]
          },
          "metadata": {},
          "execution_count": 45
        }
      ]
    },
    {
      "cell_type": "code",
      "metadata": {
        "colab": {
          "base_uri": "https://localhost:8080/"
        },
        "id": "ehOR7XNDwZEN",
        "outputId": "c91b6725-1e25-4a2d-854c-01ffcd905ba8"
      },
      "source": [
        "cos_similarities = pd.DataFrame(dot / (a_len * b_len))[0]\n",
        "most_similar = cos_similarities.sort_values(ascending=False)\n",
        "most_similar"
      ],
      "execution_count": null,
      "outputs": [
        {
          "output_type": "execute_result",
          "data": {
            "text/plain": [
              "0    1.000000\n",
              "3    0.552465\n",
              "2    0.117450\n",
              "1    0.084205\n",
              "Name: 0, dtype: float64"
            ]
          },
          "metadata": {},
          "execution_count": 46
        }
      ]
    }
  ]
}